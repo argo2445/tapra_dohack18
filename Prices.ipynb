{
 "cells": [
  {
   "cell_type": "markdown",
   "metadata": {},
   "source": [
    "# Import Libraries"
   ]
  },
  {
   "cell_type": "code",
   "execution_count": 1,
   "metadata": {
    "ExecuteTime": {
     "end_time": "2018-07-21T23:41:13.446989Z",
     "start_time": "2018-07-21T23:41:02.605769Z"
    }
   },
   "outputs": [
    {
     "name": "stderr",
     "output_type": "stream",
     "text": [
      "/home/jm/anaconda3/lib/python3.6/site-packages/psycopg2/__init__.py:144: UserWarning: The psycopg2 wheel package will be renamed from release 2.8; in order to keep installing from binary please use \"pip install psycopg2-binary\" instead. For details see: <http://initd.org/psycopg/docs/install.html#binary-install-from-pypi>.\n",
      "  \"\"\")\n"
     ]
    }
   ],
   "source": [
    "# To do linear algebra\n",
    "import numpy as np\n",
    "\n",
    "# To store data\n",
    "import pandas as pd\n",
    "\n",
    "# To connect to postgresql\n",
    "import psycopg2\n",
    "\n",
    "# To get plots\n",
    "import matplotlib.pyplot as plt\n",
    "\n",
    "# To get nicer plots\n",
    "import seaborn as sns"
   ]
  },
  {
   "cell_type": "markdown",
   "metadata": {},
   "source": [
    "# Connection"
   ]
  },
  {
   "cell_type": "code",
   "execution_count": 2,
   "metadata": {
    "ExecuteTime": {
     "end_time": "2018-07-21T23:41:13.464865Z",
     "start_time": "2018-07-21T23:41:13.454944Z"
    },
    "collapsed": true
   },
   "outputs": [],
   "source": [
    "def conn():\n",
    "    conn = psycopg2.connect(\"user='postgres' host='192.168.0.2' password='geheim' dbname=tankerkoenig16\")\n",
    "    #conn = psycopg2.connect(\"user='root' host='localhost' password='geheim' dbname=root\")\n",
    "    return conn.cursor()"
   ]
  },
  {
   "cell_type": "markdown",
   "metadata": {},
   "source": [
    "# Explore A Single Gas Stations Diesel Price"
   ]
  },
  {
   "cell_type": "code",
   "execution_count": 4,
   "metadata": {
    "ExecuteTime": {
     "end_time": "2018-07-21T23:42:52.426837Z",
     "start_time": "2018-07-21T23:41:24.445837Z"
    }
   },
   "outputs": [
    {
     "data": {
      "text/plain": [
       "5134190"
      ]
     },
     "execution_count": 4,
     "metadata": {},
     "output_type": "execute_result"
    }
   ],
   "source": [
    "cur = conn()\n",
    "cur.execute('''select date, e5, e10, diesel, brand, state.name from gas_station_min_history \n",
    "               full outer join gas_station on gas_station.id=gas_station_min_history.stid \n",
    "               full outer join state on gas_station.stateid=state.id''')\n",
    "data = cur.fetchall()\n",
    "len(data)"
   ]
  },
  {
   "cell_type": "code",
   "execution_count": 5,
   "metadata": {
    "ExecuteTime": {
     "end_time": "2018-07-21T23:43:22.850554Z",
     "start_time": "2018-07-21T23:43:01.825585Z"
    }
   },
   "outputs": [
    {
     "data": {
      "text/html": [
       "<div>\n",
       "<style scoped>\n",
       "    .dataframe tbody tr th:only-of-type {\n",
       "        vertical-align: middle;\n",
       "    }\n",
       "\n",
       "    .dataframe tbody tr th {\n",
       "        vertical-align: top;\n",
       "    }\n",
       "\n",
       "    .dataframe thead th {\n",
       "        text-align: right;\n",
       "    }\n",
       "</style>\n",
       "<table border=\"1\" class=\"dataframe\">\n",
       "  <thead>\n",
       "    <tr style=\"text-align: right;\">\n",
       "      <th></th>\n",
       "      <th>e5</th>\n",
       "      <th>e10</th>\n",
       "      <th>diesel</th>\n",
       "      <th>brand</th>\n",
       "      <th>state</th>\n",
       "    </tr>\n",
       "    <tr>\n",
       "      <th>date</th>\n",
       "      <th></th>\n",
       "      <th></th>\n",
       "      <th></th>\n",
       "      <th></th>\n",
       "      <th></th>\n",
       "    </tr>\n",
       "  </thead>\n",
       "  <tbody>\n",
       "    <tr>\n",
       "      <th>2018-04-21 00:00:00+02:00</th>\n",
       "      <td>1467.0</td>\n",
       "      <td>1447.0</td>\n",
       "      <td>1279.0</td>\n",
       "      <td>ARAL</td>\n",
       "      <td>Hessen</td>\n",
       "    </tr>\n",
       "    <tr>\n",
       "      <th>2018-04-21 00:00:00+02:00</th>\n",
       "      <td>1394.0</td>\n",
       "      <td>1354.0</td>\n",
       "      <td>1216.0</td>\n",
       "      <td>bft</td>\n",
       "      <td>Hessen</td>\n",
       "    </tr>\n",
       "    <tr>\n",
       "      <th>2018-04-21 00:00:00+02:00</th>\n",
       "      <td>1427.0</td>\n",
       "      <td>1407.0</td>\n",
       "      <td>1257.0</td>\n",
       "      <td>ARAL</td>\n",
       "      <td>Bayern</td>\n",
       "    </tr>\n",
       "    <tr>\n",
       "      <th>2018-04-21 00:00:00+02:00</th>\n",
       "      <td>1395.0</td>\n",
       "      <td>1375.0</td>\n",
       "      <td>1209.0</td>\n",
       "      <td>None</td>\n",
       "      <td>Mecklenburg-Vorpommern</td>\n",
       "    </tr>\n",
       "    <tr>\n",
       "      <th>2018-04-21 00:00:00+02:00</th>\n",
       "      <td>1382.0</td>\n",
       "      <td>1362.0</td>\n",
       "      <td>1217.0</td>\n",
       "      <td>BayWa</td>\n",
       "      <td>Bayern</td>\n",
       "    </tr>\n",
       "  </tbody>\n",
       "</table>\n",
       "</div>"
      ],
      "text/plain": [
       "                               e5     e10  diesel  brand  \\\n",
       "date                                                       \n",
       "2018-04-21 00:00:00+02:00  1467.0  1447.0  1279.0   ARAL   \n",
       "2018-04-21 00:00:00+02:00  1394.0  1354.0  1216.0    bft   \n",
       "2018-04-21 00:00:00+02:00  1427.0  1407.0  1257.0   ARAL   \n",
       "2018-04-21 00:00:00+02:00  1395.0  1375.0  1209.0   None   \n",
       "2018-04-21 00:00:00+02:00  1382.0  1362.0  1217.0  BayWa   \n",
       "\n",
       "                                            state  \n",
       "date                                               \n",
       "2018-04-21 00:00:00+02:00                  Hessen  \n",
       "2018-04-21 00:00:00+02:00                  Hessen  \n",
       "2018-04-21 00:00:00+02:00                  Bayern  \n",
       "2018-04-21 00:00:00+02:00  Mecklenburg-Vorpommern  \n",
       "2018-04-21 00:00:00+02:00                  Bayern  "
      ]
     },
     "execution_count": 5,
     "metadata": {},
     "output_type": "execute_result"
    }
   ],
   "source": [
    "columns = ['date', 'e5', 'e10', 'diesel', 'brand', 'state']\n",
    "ts = pd.DataFrame(data, columns=columns)\n",
    "ts.set_index('date', inplace=True)\n",
    "ts.head()"
   ]
  },
  {
   "cell_type": "code",
   "execution_count": 6,
   "metadata": {
    "ExecuteTime": {
     "end_time": "2018-07-21T23:43:43.667503Z",
     "start_time": "2018-07-21T23:43:26.731320Z"
    }
   },
   "outputs": [
    {
     "data": {
      "text/html": [
       "<div>\n",
       "<style scoped>\n",
       "    .dataframe tbody tr th:only-of-type {\n",
       "        vertical-align: middle;\n",
       "    }\n",
       "\n",
       "    .dataframe tbody tr th {\n",
       "        vertical-align: top;\n",
       "    }\n",
       "\n",
       "    .dataframe thead th {\n",
       "        text-align: right;\n",
       "    }\n",
       "</style>\n",
       "<table border=\"1\" class=\"dataframe\">\n",
       "  <thead>\n",
       "    <tr style=\"text-align: right;\">\n",
       "      <th></th>\n",
       "      <th>brand</th>\n",
       "      <th>state</th>\n",
       "      <th>price</th>\n",
       "      <th>gasoline</th>\n",
       "    </tr>\n",
       "  </thead>\n",
       "  <tbody>\n",
       "    <tr>\n",
       "      <th>0</th>\n",
       "      <td>ARAL</td>\n",
       "      <td>Baden-Württemberg</td>\n",
       "      <td>1408.933780</td>\n",
       "      <td>e5</td>\n",
       "    </tr>\n",
       "    <tr>\n",
       "      <th>1</th>\n",
       "      <td>ARAL</td>\n",
       "      <td>Bayern</td>\n",
       "      <td>1407.137274</td>\n",
       "      <td>e5</td>\n",
       "    </tr>\n",
       "    <tr>\n",
       "      <th>2</th>\n",
       "      <td>ARAL</td>\n",
       "      <td>Berlin</td>\n",
       "      <td>1403.443587</td>\n",
       "      <td>e5</td>\n",
       "    </tr>\n",
       "    <tr>\n",
       "      <th>3</th>\n",
       "      <td>ARAL</td>\n",
       "      <td>Brandenburg</td>\n",
       "      <td>1417.433823</td>\n",
       "      <td>e5</td>\n",
       "    </tr>\n",
       "    <tr>\n",
       "      <th>4</th>\n",
       "      <td>ARAL</td>\n",
       "      <td>Bremen</td>\n",
       "      <td>1414.478380</td>\n",
       "      <td>e5</td>\n",
       "    </tr>\n",
       "  </tbody>\n",
       "</table>\n",
       "</div>"
      ],
      "text/plain": [
       "  brand              state        price gasoline\n",
       "0  ARAL  Baden-Württemberg  1408.933780       e5\n",
       "1  ARAL             Bayern  1407.137274       e5\n",
       "2  ARAL             Berlin  1403.443587       e5\n",
       "3  ARAL        Brandenburg  1417.433823       e5\n",
       "4  ARAL             Bremen  1414.478380       e5"
      ]
     },
     "execution_count": 6,
     "metadata": {},
     "output_type": "execute_result"
    }
   ],
   "source": [
    "tmp = ts[ts['brand'].isin(['ARAL', 'SHELL', 'ESSO', 'TOTAL', 'BFT', 'Freie Tankstelle'])].groupby(['brand', 'state']).mean().reset_index()\n",
    "\n",
    "tmp1 = tmp[['brand', 'state', 'e5']].copy()\n",
    "tmp1.rename(columns={'e5':'price'}, inplace=True)\n",
    "tmp1['gasoline'] = 'e5'\n",
    "\n",
    "tmp2= tmp[['brand', 'state', 'e10']].copy()\n",
    "tmp2.rename(columns={'e10':'price'}, inplace=True)\n",
    "tmp2['gasoline'] = 'e10'\n",
    "\n",
    "tmp3= tmp[['brand', 'state', 'diesel']].copy()\n",
    "tmp3.rename(columns={'diesel':'price'}, inplace=True)\n",
    "tmp3['gasoline'] = 'diesel'\n",
    "\n",
    "tmp = pd.concat([tmp1, tmp2, tmp3])\n",
    "tmp.head()"
   ]
  },
  {
   "cell_type": "code",
   "execution_count": 7,
   "metadata": {
    "ExecuteTime": {
     "end_time": "2018-07-21T23:43:51.678935Z",
     "start_time": "2018-07-21T23:43:49.594878Z"
    }
   },
   "outputs": [
    {
     "name": "stderr",
     "output_type": "stream",
     "text": [
      "/home/jm/anaconda3/lib/python3.6/site-packages/seaborn/categorical.py:482: FutureWarning: remove_na is deprecated and is a private function. Do not use.\n",
      "  box_data = remove_na(group_data[hue_mask])\n"
     ]
    },
    {
     "data": {
      "image/png": "[encoded data removed]",
      "text/plain": [
       "<Figure size 1080x360 with 1 Axes>"
      ]
     },
     "metadata": {},
     "output_type": "display_data"
    }
   ],
   "source": [
    "plt.figure(figsize=(15,5))\n",
    "sns.boxplot(data=tmp, x='gasoline', y='price', hue='brand')\n",
    "plt.title('Gasoline Prices Of The Most Frequent Brands')\n",
    "plt.xlabel('Brand')\n",
    "plt.ylabel('Price')\n",
    "plt.savefig('build/Gasoline_Prices_By_Brand_Boxplot.png')\n",
    "plt.show()"
   ]
  },
  {
   "cell_type": "code",
   "execution_count": 8,
   "metadata": {
    "ExecuteTime": {
     "end_time": "2018-07-21T23:44:01.793614Z",
     "start_time": "2018-07-21T23:43:55.069913Z"
    }
   },
   "outputs": [
    {
     "data": {
      "text/html": [
       "<div>\n",
       "<style scoped>\n",
       "    .dataframe tbody tr th:only-of-type {\n",
       "        vertical-align: middle;\n",
       "    }\n",
       "\n",
       "    .dataframe tbody tr th {\n",
       "        vertical-align: top;\n",
       "    }\n",
       "\n",
       "    .dataframe thead th {\n",
       "        text-align: right;\n",
       "    }\n",
       "</style>\n",
       "<table border=\"1\" class=\"dataframe\">\n",
       "  <thead>\n",
       "    <tr style=\"text-align: right;\">\n",
       "      <th></th>\n",
       "      <th>state</th>\n",
       "      <th>e5</th>\n",
       "      <th>e10</th>\n",
       "      <th>diesel</th>\n",
       "    </tr>\n",
       "  </thead>\n",
       "  <tbody>\n",
       "    <tr>\n",
       "      <th>0</th>\n",
       "      <td>Baden-Württemberg</td>\n",
       "      <td>1390.798270</td>\n",
       "      <td>1368.560007</td>\n",
       "      <td>1215.613284</td>\n",
       "    </tr>\n",
       "    <tr>\n",
       "      <th>1</th>\n",
       "      <td>Bayern</td>\n",
       "      <td>1386.410162</td>\n",
       "      <td>1365.197172</td>\n",
       "      <td>1212.639270</td>\n",
       "    </tr>\n",
       "    <tr>\n",
       "      <th>2</th>\n",
       "      <td>Berlin</td>\n",
       "      <td>1383.661569</td>\n",
       "      <td>1360.507995</td>\n",
       "      <td>1193.767413</td>\n",
       "    </tr>\n",
       "    <tr>\n",
       "      <th>3</th>\n",
       "      <td>Brandenburg</td>\n",
       "      <td>1397.644286</td>\n",
       "      <td>1374.867833</td>\n",
       "      <td>1205.844277</td>\n",
       "    </tr>\n",
       "    <tr>\n",
       "      <th>4</th>\n",
       "      <td>Bremen</td>\n",
       "      <td>1390.929655</td>\n",
       "      <td>1367.966531</td>\n",
       "      <td>1197.631552</td>\n",
       "    </tr>\n",
       "  </tbody>\n",
       "</table>\n",
       "</div>"
      ],
      "text/plain": [
       "               state           e5          e10       diesel\n",
       "0  Baden-Württemberg  1390.798270  1368.560007  1215.613284\n",
       "1             Bayern  1386.410162  1365.197172  1212.639270\n",
       "2             Berlin  1383.661569  1360.507995  1193.767413\n",
       "3        Brandenburg  1397.644286  1374.867833  1205.844277\n",
       "4             Bremen  1390.929655  1367.966531  1197.631552"
      ]
     },
     "execution_count": 8,
     "metadata": {},
     "output_type": "execute_result"
    }
   ],
   "source": [
    "state = ts.groupby('state').mean().reset_index()\n",
    "state.head()"
   ]
  },
  {
   "cell_type": "code",
   "execution_count": 9,
   "metadata": {
    "ExecuteTime": {
     "end_time": "2018-07-21T23:44:46.369067Z",
     "start_time": "2018-07-21T23:44:01.805065Z"
    }
   },
   "outputs": [
    {
     "name": "stderr",
     "output_type": "stream",
     "text": [
      "/home/jm/anaconda3/lib/python3.6/site-packages/seaborn/categorical.py:454: FutureWarning: remove_na is deprecated and is a private function. Do not use.\n",
      "  box_data = remove_na(group_data)\n"
     ]
    },
    {
     "data": {
      "image/png": "[encoded data removed]",
      "text/plain": [
       "<Figure size 1080x360 with 1 Axes>"
      ]
     },
     "metadata": {},
     "output_type": "display_data"
    }
   ],
   "source": [
    "title = 'E5 Price By State'\n",
    "fig = plt.figure(figsize=(15,5))\n",
    "sns.boxplot(data=ts, x='state', y='e5')\n",
    "plt.title(title)\n",
    "plt.xlabel('State')\n",
    "plt.ylabel('Price')\n",
    "plt.xticks(rotation=90)\n",
    "plt.ylim(1300, 1600)\n",
    "plt.tight_layout()\n",
    "plt.savefig('build/{}.png'.format(title.replace(' ', '_')))\n",
    "plt.show()"
   ]
  },
  {
   "cell_type": "code",
   "execution_count": null,
   "metadata": {
    "collapsed": true
   },
   "outputs": [],
   "source": []
  },
  {
   "cell_type": "code",
   "execution_count": 10,
   "metadata": {
    "ExecuteTime": {
     "end_time": "2018-07-21T23:44:46.424495Z",
     "start_time": "2018-07-21T23:44:46.380089Z"
    }
   },
   "outputs": [
    {
     "data": {
      "text/html": [
       "<div>\n",
       "<style scoped>\n",
       "    .dataframe tbody tr th:only-of-type {\n",
       "        vertical-align: middle;\n",
       "    }\n",
       "\n",
       "    .dataframe tbody tr th {\n",
       "        vertical-align: top;\n",
       "    }\n",
       "\n",
       "    .dataframe thead th {\n",
       "        text-align: right;\n",
       "    }\n",
       "</style>\n",
       "<table border=\"1\" class=\"dataframe\">\n",
       "  <thead>\n",
       "    <tr style=\"text-align: right;\">\n",
       "      <th></th>\n",
       "      <th>e5</th>\n",
       "      <th>e10</th>\n",
       "      <th>diesel</th>\n",
       "      <th>brand</th>\n",
       "      <th>state</th>\n",
       "    </tr>\n",
       "    <tr>\n",
       "      <th>date</th>\n",
       "      <th></th>\n",
       "      <th></th>\n",
       "      <th></th>\n",
       "      <th></th>\n",
       "      <th></th>\n",
       "    </tr>\n",
       "  </thead>\n",
       "  <tbody>\n",
       "    <tr>\n",
       "      <th>2018-04-21 00:00:00+02:00</th>\n",
       "      <td>1467.0</td>\n",
       "      <td>1447.0</td>\n",
       "      <td>1279.0</td>\n",
       "      <td>ARAL</td>\n",
       "      <td>Hessen</td>\n",
       "    </tr>\n",
       "    <tr>\n",
       "      <th>2018-04-21 00:00:00+02:00</th>\n",
       "      <td>1394.0</td>\n",
       "      <td>1354.0</td>\n",
       "      <td>1216.0</td>\n",
       "      <td>bft</td>\n",
       "      <td>Hessen</td>\n",
       "    </tr>\n",
       "    <tr>\n",
       "      <th>2018-04-21 00:00:00+02:00</th>\n",
       "      <td>1427.0</td>\n",
       "      <td>1407.0</td>\n",
       "      <td>1257.0</td>\n",
       "      <td>ARAL</td>\n",
       "      <td>Bayern</td>\n",
       "    </tr>\n",
       "    <tr>\n",
       "      <th>2018-04-21 00:00:00+02:00</th>\n",
       "      <td>1395.0</td>\n",
       "      <td>1375.0</td>\n",
       "      <td>1209.0</td>\n",
       "      <td>None</td>\n",
       "      <td>Mecklenburg-Vorpommern</td>\n",
       "    </tr>\n",
       "    <tr>\n",
       "      <th>2018-04-21 00:00:00+02:00</th>\n",
       "      <td>1382.0</td>\n",
       "      <td>1362.0</td>\n",
       "      <td>1217.0</td>\n",
       "      <td>BayWa</td>\n",
       "      <td>Bayern</td>\n",
       "    </tr>\n",
       "  </tbody>\n",
       "</table>\n",
       "</div>"
      ],
      "text/plain": [
       "                               e5     e10  diesel  brand  \\\n",
       "date                                                       \n",
       "2018-04-21 00:00:00+02:00  1467.0  1447.0  1279.0   ARAL   \n",
       "2018-04-21 00:00:00+02:00  1394.0  1354.0  1216.0    bft   \n",
       "2018-04-21 00:00:00+02:00  1427.0  1407.0  1257.0   ARAL   \n",
       "2018-04-21 00:00:00+02:00  1395.0  1375.0  1209.0   None   \n",
       "2018-04-21 00:00:00+02:00  1382.0  1362.0  1217.0  BayWa   \n",
       "\n",
       "                                            state  \n",
       "date                                               \n",
       "2018-04-21 00:00:00+02:00                  Hessen  \n",
       "2018-04-21 00:00:00+02:00                  Hessen  \n",
       "2018-04-21 00:00:00+02:00                  Bayern  \n",
       "2018-04-21 00:00:00+02:00  Mecklenburg-Vorpommern  \n",
       "2018-04-21 00:00:00+02:00                  Bayern  "
      ]
     },
     "execution_count": 10,
     "metadata": {},
     "output_type": "execute_result"
    }
   ],
   "source": [
    "ts.head()"
   ]
  },
  {
   "cell_type": "code",
   "execution_count": 21,
   "metadata": {
    "ExecuteTime": {
     "end_time": "2018-07-21T23:51:54.246989Z",
     "start_time": "2018-07-21T23:51:48.672999Z"
    }
   },
   "outputs": [
    {
     "data": {
      "text/html": [
       "<div>\n",
       "<style scoped>\n",
       "    .dataframe tbody tr th:only-of-type {\n",
       "        vertical-align: middle;\n",
       "    }\n",
       "\n",
       "    .dataframe tbody tr th {\n",
       "        vertical-align: top;\n",
       "    }\n",
       "\n",
       "    .dataframe thead th {\n",
       "        text-align: right;\n",
       "    }\n",
       "</style>\n",
       "<table border=\"1\" class=\"dataframe\">\n",
       "  <thead>\n",
       "    <tr style=\"text-align: right;\">\n",
       "      <th></th>\n",
       "      <th>date</th>\n",
       "      <th>e5</th>\n",
       "      <th>e10</th>\n",
       "      <th>diesel</th>\n",
       "      <th>brand</th>\n",
       "      <th>state</th>\n",
       "    </tr>\n",
       "  </thead>\n",
       "  <tbody>\n",
       "    <tr>\n",
       "      <th>0</th>\n",
       "      <td>2018-04-21 00:00:00+02:00</td>\n",
       "      <td>1467.0</td>\n",
       "      <td>1447.0</td>\n",
       "      <td>1279.0</td>\n",
       "      <td>ARAL</td>\n",
       "      <td>Hessen</td>\n",
       "    </tr>\n",
       "    <tr>\n",
       "      <th>1</th>\n",
       "      <td>2018-04-21 00:00:00+02:00</td>\n",
       "      <td>1394.0</td>\n",
       "      <td>1354.0</td>\n",
       "      <td>1216.0</td>\n",
       "      <td>bft</td>\n",
       "      <td>Hessen</td>\n",
       "    </tr>\n",
       "    <tr>\n",
       "      <th>2</th>\n",
       "      <td>2018-04-21 00:00:00+02:00</td>\n",
       "      <td>1427.0</td>\n",
       "      <td>1407.0</td>\n",
       "      <td>1257.0</td>\n",
       "      <td>ARAL</td>\n",
       "      <td>Bayern</td>\n",
       "    </tr>\n",
       "    <tr>\n",
       "      <th>3</th>\n",
       "      <td>2018-04-21 00:00:00+02:00</td>\n",
       "      <td>1395.0</td>\n",
       "      <td>1375.0</td>\n",
       "      <td>1209.0</td>\n",
       "      <td>None</td>\n",
       "      <td>Mecklenburg-Vorpommern</td>\n",
       "    </tr>\n",
       "    <tr>\n",
       "      <th>4</th>\n",
       "      <td>2018-04-21 00:00:00+02:00</td>\n",
       "      <td>1382.0</td>\n",
       "      <td>1362.0</td>\n",
       "      <td>1217.0</td>\n",
       "      <td>BayWa</td>\n",
       "      <td>Bayern</td>\n",
       "    </tr>\n",
       "  </tbody>\n",
       "</table>\n",
       "</div>"
      ],
      "text/plain": [
       "                        date      e5     e10  diesel  brand  \\\n",
       "0  2018-04-21 00:00:00+02:00  1467.0  1447.0  1279.0   ARAL   \n",
       "1  2018-04-21 00:00:00+02:00  1394.0  1354.0  1216.0    bft   \n",
       "2  2018-04-21 00:00:00+02:00  1427.0  1407.0  1257.0   ARAL   \n",
       "3  2018-04-21 00:00:00+02:00  1395.0  1375.0  1209.0   None   \n",
       "4  2018-04-21 00:00:00+02:00  1382.0  1362.0  1217.0  BayWa   \n",
       "\n",
       "                    state  \n",
       "0                  Hessen  \n",
       "1                  Hessen  \n",
       "2                  Bayern  \n",
       "3  Mecklenburg-Vorpommern  \n",
       "4                  Bayern  "
      ]
     },
     "execution_count": 21,
     "metadata": {},
     "output_type": "execute_result"
    }
   ],
   "source": [
    "tmp = ts.reset_index().head(100000)\n",
    "tmp.head()"
   ]
  },
  {
   "cell_type": "code",
   "execution_count": 41,
   "metadata": {
    "ExecuteTime": {
     "end_time": "2018-07-21T23:56:34.353569Z",
     "start_time": "2018-07-21T23:56:34.203340Z"
    }
   },
   "outputs": [
    {
     "data": {
      "text/html": [
       "<div>\n",
       "<style scoped>\n",
       "    .dataframe tbody tr th:only-of-type {\n",
       "        vertical-align: middle;\n",
       "    }\n",
       "\n",
       "    .dataframe tbody tr th {\n",
       "        vertical-align: top;\n",
       "    }\n",
       "\n",
       "    .dataframe thead th {\n",
       "        text-align: right;\n",
       "    }\n",
       "</style>\n",
       "<table border=\"1\" class=\"dataframe\">\n",
       "  <thead>\n",
       "    <tr style=\"text-align: right;\">\n",
       "      <th>state</th>\n",
       "      <th>Baden-Württemberg</th>\n",
       "      <th>Bayern</th>\n",
       "      <th>Berlin</th>\n",
       "      <th>Brandenburg</th>\n",
       "      <th>Bremen</th>\n",
       "      <th>Hamburg</th>\n",
       "      <th>Hessen</th>\n",
       "      <th>Mecklenburg-Vorpommern</th>\n",
       "      <th>Niedersachsen</th>\n",
       "      <th>Nordrhein-Westfalen</th>\n",
       "      <th>Rheinland-Pfalz</th>\n",
       "      <th>Saarland</th>\n",
       "      <th>Sachsen</th>\n",
       "      <th>Sachsen-Anhalt</th>\n",
       "      <th>Schleswig-Holstein</th>\n",
       "      <th>Thüringen</th>\n",
       "    </tr>\n",
       "  </thead>\n",
       "  <tbody>\n",
       "    <tr>\n",
       "      <th>0</th>\n",
       "      <td>1398.930726</td>\n",
       "      <td>1390.516652</td>\n",
       "      <td>1396.609467</td>\n",
       "      <td>1412.677686</td>\n",
       "      <td>1388.160714</td>\n",
       "      <td>1361.849558</td>\n",
       "      <td>1400.791019</td>\n",
       "      <td>1387.030303</td>\n",
       "      <td>1390.690329</td>\n",
       "      <td>1398.341199</td>\n",
       "      <td>1405.213542</td>\n",
       "      <td>1410.807692</td>\n",
       "      <td>1397.653571</td>\n",
       "      <td>1395.863388</td>\n",
       "      <td>1377.584450</td>\n",
       "      <td>1413.240642</td>\n",
       "    </tr>\n",
       "    <tr>\n",
       "      <th>1</th>\n",
       "      <td>1402.475294</td>\n",
       "      <td>1395.433198</td>\n",
       "      <td>1401.059233</td>\n",
       "      <td>1415.730337</td>\n",
       "      <td>1395.715789</td>\n",
       "      <td>1369.014286</td>\n",
       "      <td>1405.479242</td>\n",
       "      <td>1379.325949</td>\n",
       "      <td>1389.888950</td>\n",
       "      <td>1401.030172</td>\n",
       "      <td>1408.835358</td>\n",
       "      <td>1421.929078</td>\n",
       "      <td>1397.915129</td>\n",
       "      <td>1397.557377</td>\n",
       "      <td>1375.177673</td>\n",
       "      <td>1411.939227</td>\n",
       "    </tr>\n",
       "    <tr>\n",
       "      <th>2</th>\n",
       "      <td>1401.395973</td>\n",
       "      <td>1392.329930</td>\n",
       "      <td>1400.086806</td>\n",
       "      <td>1413.699779</td>\n",
       "      <td>1391.510204</td>\n",
       "      <td>1359.757143</td>\n",
       "      <td>1403.781929</td>\n",
       "      <td>1392.236593</td>\n",
       "      <td>1394.667891</td>\n",
       "      <td>1401.690884</td>\n",
       "      <td>1404.218346</td>\n",
       "      <td>1412.206897</td>\n",
       "      <td>1396.981785</td>\n",
       "      <td>1403.016260</td>\n",
       "      <td>1386.608696</td>\n",
       "      <td>1416.697548</td>\n",
       "    </tr>\n",
       "    <tr>\n",
       "      <th>3</th>\n",
       "      <td>1400.109173</td>\n",
       "      <td>1392.761815</td>\n",
       "      <td>1396.916667</td>\n",
       "      <td>1410.909692</td>\n",
       "      <td>1390.886598</td>\n",
       "      <td>1363.095238</td>\n",
       "      <td>1403.305070</td>\n",
       "      <td>1392.715190</td>\n",
       "      <td>1392.682708</td>\n",
       "      <td>1402.189812</td>\n",
       "      <td>1402.997426</td>\n",
       "      <td>1416.813793</td>\n",
       "      <td>1397.696364</td>\n",
       "      <td>1405.727027</td>\n",
       "      <td>1389.850932</td>\n",
       "      <td>1412.360434</td>\n",
       "    </tr>\n",
       "    <tr>\n",
       "      <th>4</th>\n",
       "      <td>1400.061167</td>\n",
       "      <td>1392.120340</td>\n",
       "      <td>1400.256944</td>\n",
       "      <td>1410.713024</td>\n",
       "      <td>1387.551020</td>\n",
       "      <td>1369.731132</td>\n",
       "      <td>1405.893766</td>\n",
       "      <td>1391.034700</td>\n",
       "      <td>1394.496292</td>\n",
       "      <td>1399.811387</td>\n",
       "      <td>1407.198960</td>\n",
       "      <td>1409.765517</td>\n",
       "      <td>1395.574818</td>\n",
       "      <td>1406.856757</td>\n",
       "      <td>1384.238318</td>\n",
       "      <td>1416.210383</td>\n",
       "    </tr>\n",
       "  </tbody>\n",
       "</table>\n",
       "</div>"
      ],
      "text/plain": [
       "state  Baden-Württemberg       Bayern       Berlin  Brandenburg       Bremen  \\\n",
       "0            1398.930726  1390.516652  1396.609467  1412.677686  1388.160714   \n",
       "1            1402.475294  1395.433198  1401.059233  1415.730337  1395.715789   \n",
       "2            1401.395973  1392.329930  1400.086806  1413.699779  1391.510204   \n",
       "3            1400.109173  1392.761815  1396.916667  1410.909692  1390.886598   \n",
       "4            1400.061167  1392.120340  1400.256944  1410.713024  1387.551020   \n",
       "\n",
       "state      Hamburg       Hessen  Mecklenburg-Vorpommern  Niedersachsen  \\\n",
       "0      1361.849558  1400.791019             1387.030303    1390.690329   \n",
       "1      1369.014286  1405.479242             1379.325949    1389.888950   \n",
       "2      1359.757143  1403.781929             1392.236593    1394.667891   \n",
       "3      1363.095238  1403.305070             1392.715190    1392.682708   \n",
       "4      1369.731132  1405.893766             1391.034700    1394.496292   \n",
       "\n",
       "state  Nordrhein-Westfalen  Rheinland-Pfalz     Saarland      Sachsen  \\\n",
       "0              1398.341199      1405.213542  1410.807692  1397.653571   \n",
       "1              1401.030172      1408.835358  1421.929078  1397.915129   \n",
       "2              1401.690884      1404.218346  1412.206897  1396.981785   \n",
       "3              1402.189812      1402.997426  1416.813793  1397.696364   \n",
       "4              1399.811387      1407.198960  1409.765517  1395.574818   \n",
       "\n",
       "state  Sachsen-Anhalt  Schleswig-Holstein    Thüringen  \n",
       "0         1395.863388         1377.584450  1413.240642  \n",
       "1         1397.557377         1375.177673  1411.939227  \n",
       "2         1403.016260         1386.608696  1416.697548  \n",
       "3         1405.727027         1389.850932  1412.360434  \n",
       "4         1406.856757         1384.238318  1416.210383  "
      ]
     },
     "execution_count": 41,
     "metadata": {},
     "output_type": "execute_result"
    }
   ],
   "source": [
    "a = tmp.pivot_table(index='date', columns='state', values='e5', aggfunc='mean').reset_index(drop=True)\n",
    "a.head()"
   ]
  },
  {
   "cell_type": "code",
   "execution_count": null,
   "metadata": {
    "collapsed": true
   },
   "outputs": [],
   "source": []
  }
 ],
 "metadata": {
  "kernelspec": {
   "display_name": "Python 3",
   "language": "python",
   "name": "python3"
  },
  "language_info": {
   "codemirror_mode": {
    "name": "ipython",
    "version": 3
   },
   "file_extension": ".py",
   "mimetype": "text/x-python",
   "name": "python",
   "nbconvert_exporter": "python",
   "pygments_lexer": "ipython3",
   "version": "3.6.1"
  }
 },
 "nbformat": 4,
 "nbformat_minor": 2
}
